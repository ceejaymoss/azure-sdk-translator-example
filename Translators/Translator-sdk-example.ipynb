{
 "cells": [
  {
   "cell_type": "code",
   "execution_count": 1,
   "id": "1fc9c3d9-0990-4286-9035-f272fef3d9cc",
   "metadata": {},
   "outputs": [
    {
     "name": "stdout",
     "output_type": "stream",
     "text": [
      "Requirement already satisfied: azure-ai-translation-text==1.0.0b1 in /anaconda/envs/azureml_py310_sdkv2/lib/python3.10/site-packages (1.0.0b1)\n",
      "Requirement already satisfied: msrest>=0.7.1 in /anaconda/envs/azureml_py310_sdkv2/lib/python3.10/site-packages (from azure-ai-translation-text==1.0.0b1) (0.7.1)\n",
      "Requirement already satisfied: azure-core<2.0.0,>=1.24.0 in /anaconda/envs/azureml_py310_sdkv2/lib/python3.10/site-packages (from azure-ai-translation-text==1.0.0b1) (1.31.0)\n",
      "Requirement already satisfied: typing-extensions>=4.3.0 in /anaconda/envs/azureml_py310_sdkv2/lib/python3.10/site-packages (from azure-ai-translation-text==1.0.0b1) (4.12.2)\n",
      "Requirement already satisfied: requests>=2.21.0 in /anaconda/envs/azureml_py310_sdkv2/lib/python3.10/site-packages (from azure-core<2.0.0,>=1.24.0->azure-ai-translation-text==1.0.0b1) (2.32.3)\n",
      "Requirement already satisfied: six>=1.11.0 in /anaconda/envs/azureml_py310_sdkv2/lib/python3.10/site-packages (from azure-core<2.0.0,>=1.24.0->azure-ai-translation-text==1.0.0b1) (1.16.0)\n",
      "Requirement already satisfied: certifi>=2017.4.17 in /anaconda/envs/azureml_py310_sdkv2/lib/python3.10/site-packages (from msrest>=0.7.1->azure-ai-translation-text==1.0.0b1) (2024.8.30)\n",
      "Requirement already satisfied: isodate>=0.6.0 in /anaconda/envs/azureml_py310_sdkv2/lib/python3.10/site-packages (from msrest>=0.7.1->azure-ai-translation-text==1.0.0b1) (0.6.1)\n",
      "Requirement already satisfied: requests-oauthlib>=0.5.0 in /anaconda/envs/azureml_py310_sdkv2/lib/python3.10/site-packages (from msrest>=0.7.1->azure-ai-translation-text==1.0.0b1) (2.0.0)\n",
      "Requirement already satisfied: charset-normalizer<4,>=2 in /anaconda/envs/azureml_py310_sdkv2/lib/python3.10/site-packages (from requests>=2.21.0->azure-core<2.0.0,>=1.24.0->azure-ai-translation-text==1.0.0b1) (3.3.2)\n",
      "Requirement already satisfied: idna<4,>=2.5 in /anaconda/envs/azureml_py310_sdkv2/lib/python3.10/site-packages (from requests>=2.21.0->azure-core<2.0.0,>=1.24.0->azure-ai-translation-text==1.0.0b1) (3.10)\n",
      "Requirement already satisfied: urllib3<3,>=1.21.1 in /anaconda/envs/azureml_py310_sdkv2/lib/python3.10/site-packages (from requests>=2.21.0->azure-core<2.0.0,>=1.24.0->azure-ai-translation-text==1.0.0b1) (2.2.3)\n",
      "Requirement already satisfied: oauthlib>=3.0.0 in /anaconda/envs/azureml_py310_sdkv2/lib/python3.10/site-packages (from requests-oauthlib>=0.5.0->msrest>=0.7.1->azure-ai-translation-text==1.0.0b1) (3.2.2)\n",
      "Note: you may need to restart the kernel to use updated packages.\n"
     ]
    }
   ],
   "source": [
    "%pip install azure-ai-translation-text==1.0.0b1"
   ]
  },
  {
   "cell_type": "code",
   "execution_count": 2,
   "id": "d93a3486-ce78-4bae-b31b-47ecaae318cf",
   "metadata": {
    "tags": []
   },
   "outputs": [],
   "source": [
    "from azure.core.credentials import AzureKeyCredential\n",
    "from azure.ai.translation.text import TextTranslationClient"
   ]
  },
  {
   "cell_type": "code",
   "execution_count": 3,
   "id": "428ed011-4563-4ca1-a4c8-7797e3717e72",
   "metadata": {
    "tags": []
   },
   "outputs": [],
   "source": [
    "from azure.ai.translation.text import TextTranslationClient, TranslatorCredential\n",
    "from azure.ai.translation.text.models import InputTextItem\n",
    "from azure.core.exceptions import HttpResponseError\n",
    "\n",
    "key = \"8Ns0V7BWJUtrApKLHV0ZRX0OEhQCZNFE1SeJDv6N38Jf2zbkViwTJQQJ99ALACL93NaXJ3w3AAAbACOGkxFy\"\n",
    "endpoint = \"https://api.cognitive.microsofttranslator.com/\"\n",
    "region = \"australiaeast\"\n",
    "\n",
    "\n",
    "credential = TranslatorCredential(key, region)\n",
    "text_translator = TextTranslationClient(endpoint=endpoint, credential=credential)"
   ]
  },
  {
   "cell_type": "code",
   "execution_count": 5,
   "id": "a9b5dbbe-ed52-4893-9e78-48da9fd61b6a",
   "metadata": {
    "tags": []
   },
   "outputs": [
    {
     "name": "stdout",
     "output_type": "stream",
     "text": [
      "Detected languages of the input text: en with score: 1.0.\n",
      "Text was translated to: 'ja' and the result is: 'これはテストです'.\n",
      "Text was translated to: 'es' and the result is: 'Esto es una prueba'.\n",
      "Text was translated to: 'de' and the result is: 'Dies ist ein Test'.\n"
     ]
    }
   ],
   "source": [
    "try:\n",
    "    langs = [\"ja\", \"es\", \"de\"]\n",
    "    input_text_elements =[{\"Text\": \"This is a test\"}]\n",
    "\n",
    "    response = text_translator.translate(content=input_text_elements, to=langs)\n",
    "    translation = response[0] if response else None\n",
    "\n",
    "    if translation:\n",
    "        detected_language = translation.detected_language\n",
    "        if detected_language:\n",
    "            print(\n",
    "                f\"Detected languages of the input text: {detected_language.language} with score: {detected_language.score}.\"\n",
    "            )\n",
    "        for translated_text in translation.translations:\n",
    "            print(f\"Text was translated to: '{translated_text.to}' and the result is: '{translated_text.text}'.\")\n",
    "\n",
    "except HttpResponseError as exception:\n",
    "    if exception.error is not None:\n",
    "        print(f\"Error Code: {exception.error.code}\")\n",
    "        print(f\"Message: {exception.error.message}\")"
   ]
  },
  {
   "cell_type": "code",
   "execution_count": null,
   "id": "872dd458-ef56-4682-8772-e05f487b5546",
   "metadata": {},
   "outputs": [],
   "source": []
  }
 ],
 "metadata": {
  "kernelspec": {
   "display_name": "Python 3.10 - SDK v2",
   "language": "python",
   "name": "python310-sdkv2"
  },
  "language_info": {
   "codemirror_mode": {
    "name": "ipython",
    "version": 3
   },
   "file_extension": ".py",
   "mimetype": "text/x-python",
   "name": "python",
   "nbconvert_exporter": "python",
   "pygments_lexer": "ipython3",
   "version": "3.10.14"
  }
 },
 "nbformat": 4,
 "nbformat_minor": 5
}
